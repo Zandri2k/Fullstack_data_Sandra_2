{
 "cells": [
  {
   "cell_type": "markdown",
   "metadata": {},
   "source": [
    "# Change_name_data\n",
    "* ändrar namnet på rådatansfilnamn"
   ]
  },
  {
   "cell_type": "markdown",
   "metadata": {},
   "source": [
    "# constants\n",
    "* skapar filvägar till databasen från föräldrarmappen (.parent)"
   ]
  },
  {
   "cell_type": "markdown",
   "metadata": {},
   "source": [
    "# database\n",
    "* database scriptet hanterar databasens connection till duckdb. databasklassen kan stänga och öppna anslutningen.\n",
    "* databaseframe hanterar bara resultaten från ändringar av dataframen"
   ]
  },
  {
   "cell_type": "markdown",
   "metadata": {},
   "source": [
    "# Ingest_data_to_database\n",
    "* matar in rensade csv-filer till duckdbs databas. gör automatiserade scheman och tabeller"
   ]
  },
  {
   "cell_type": "markdown",
   "metadata": {},
   "source": [
    "# main\n",
    "* är scriptet som man kallar på när dasboard ska köras"
   ]
  },
  {
   "cell_type": "code",
   "execution_count": null,
   "metadata": {},
   "outputs": [],
   "source": []
  }
 ],
 "metadata": {
  "language_info": {
   "name": "python"
  }
 },
 "nbformat": 4,
 "nbformat_minor": 2
}
