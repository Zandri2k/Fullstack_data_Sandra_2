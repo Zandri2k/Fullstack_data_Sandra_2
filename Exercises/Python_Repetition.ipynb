{
 "cells": [
  {
   "cell_type": "code",
   "execution_count": null,
   "metadata": {},
   "outputs": [],
   "source": []
  },
  {
   "cell_type": "markdown",
   "metadata": {},
   "source": [
    "# 0. Hire IT employee data\n",
    "###  a) Create a list of dictionaries to represent this data, where each dictionary represents each row.\n",
    "\n",
    "###  b) Extract the second record in this dataset.\n",
    "\n",
    "###   c) Extract all rows from this dataset and print it in this format\n",
    "\n",
    "###   d) Find out the average salary in Hire IT.\n",
    "\n",
    "### e) Find out the average salary among the HR department in Hire IT.\n",
    "\n",
    "### f) Extract all records where the department is HR.\n",
    "\n",
    "### g) Find all unique departments in this list."
   ]
  },
  {
   "cell_type": "markdown",
   "metadata": {},
   "source": [
    "## a)"
   ]
  },
  {
   "cell_type": "code",
   "execution_count": 2,
   "metadata": {},
   "outputs": [],
   "source": [
    "Data = [\n",
    "    {\"employeeId\": 0, \"name\": \"Saga\", \"department\": \"Buisness\", \"salary\": 32000},\n",
    "    {\"employeeId\": 1, \"name\": \"Ken\", \"department\": \"It\", \"salary\": 41000},\n",
    "    {\"employeeId\": 2, \"name\": \"Saga\", \"department\": \"HR\", \"salary\": 29000},\n",
    "]"
   ]
  },
  {
   "cell_type": "markdown",
   "metadata": {},
   "source": [
    "## b)"
   ]
  },
  {
   "cell_type": "code",
   "execution_count": 3,
   "metadata": {},
   "outputs": [
    {
     "name": "stdout",
     "output_type": "stream",
     "text": [
      "{'employeeId': 1, 'name': 'Ken', 'department': 'It', 'salary': 41000}\n"
     ]
    }
   ],
   "source": [
    "second_row = Data[1]\n",
    "print(second_row)"
   ]
  },
  {
   "cell_type": "markdown",
   "metadata": {},
   "source": [
    "## c)"
   ]
  },
  {
   "cell_type": "code",
   "execution_count": 6,
   "metadata": {},
   "outputs": [
    {
     "name": "stdout",
     "output_type": "stream",
     "text": [
      "{'employeeId': 0, 'name': 'Saga', 'department': 'Buisness', 'salary': 32000}\n",
      "{'employeeId': 1, 'name': 'Ken', 'department': 'It', 'salary': 41000}\n",
      "{'employeeId': 2, 'name': 'Saga', 'department': 'HR', 'salary': 29000}\n"
     ]
    }
   ],
   "source": [
    "all_rows =Data[:3]\n",
    "\n",
    "for row in all_rows:\n",
    "    print(row)"
   ]
  },
  {
   "cell_type": "markdown",
   "metadata": {},
   "source": [
    "# 1. Gotta catch Em All"
   ]
  },
  {
   "cell_type": "markdown",
   "metadata": {},
   "source": [
    "# a) Define a Pokemon class with attributes for name, type, and level. Instantiate a pokemon named Pikachu and give it an electric type with level 10."
   ]
  },
  {
   "cell_type": "code",
   "execution_count": 5,
   "metadata": {},
   "outputs": [
    {
     "data": {
      "text/plain": [
       "<__main__.Pokemon at 0x2497b5ccd90>"
      ]
     },
     "execution_count": 5,
     "metadata": {},
     "output_type": "execute_result"
    }
   ],
   "source": [
    "class Pokemon:\n",
    "    def __init__(self, name, type, level) -> None:\n",
    "        self.name = name \n",
    "        self.type = type\n",
    "        self.level = level\n",
    "\n",
    "Pokemon_1 = Pokemon(\"Pikachu\", \"Electric\", 10)\n",
    "Pokemon_1"
   ]
  },
  {
   "cell_type": "code",
   "execution_count": 6,
   "metadata": {},
   "outputs": [
    {
     "data": {
      "text/plain": [
       "('Pikachu', 'Electric', 10)"
      ]
     },
     "execution_count": 6,
     "metadata": {},
     "output_type": "execute_result"
    }
   ],
   "source": [
    "Pokemon_1.name, Pokemon_1.type, Pokemon_1.level"
   ]
  },
  {
   "cell_type": "markdown",
   "metadata": {},
   "source": [
    "# b) Implement __str__() method to display the Pokemon's details. Also implement a __repr__() method."
   ]
  },
  {
   "cell_type": "code",
   "execution_count": 15,
   "metadata": {},
   "outputs": [
    {
     "name": "stdout",
     "output_type": "stream",
     "text": [
      "Pokemon (name = Pikachu, type = Electric, level = 10)\n",
      "Pokemon (name = 'Pikachu', type = 'Electric', level = '10')\n"
     ]
    }
   ],
   "source": [
    "class Pokemon:\n",
    "    def __init__(self, name, type, level) -> None:\n",
    "        self.name = name \n",
    "        self.type = type\n",
    "        self.level = level\n",
    "\n",
    "    def __str__ (self):\n",
    "        return f\"Pokemon (name = {self.name}, type = {self.type}, level = {self.level})\"\n",
    "    \n",
    "    def __repr__(self):\n",
    "        return f\"Pokemon (name = '{self.name}', type = '{self.type}', level = '{self.level}')\" # tillgängligt till andra progs\n",
    "        \n",
    "\n",
    "Pokemon_1 = Pokemon(\"Pikachu\", \"Electric\", 10)\n",
    "\n",
    "print(Pokemon_1)\n",
    "print(repr(Pokemon_1))"
   ]
  },
  {
   "cell_type": "markdown",
   "metadata": {},
   "source": [
    "#   c) Create a subclass WaterPokemon that inherits from Pokemon and add a unique method splash. This method prints out the pokemons name and that it splashes some water."
   ]
  },
  {
   "cell_type": "code",
   "execution_count": 17,
   "metadata": {},
   "outputs": [
    {
     "name": "stdout",
     "output_type": "stream",
     "text": [
      "Pokemon (name = 'Pikachu', type = 'Electric', level = '10')\n"
     ]
    }
   ],
   "source": [
    "class Pokemon:\n",
    "    def __init__(self, name, type, level) -> None:\n",
    "        self.name = name \n",
    "        self.type = type\n",
    "        self.level = level\n",
    "\n",
    "    def __str__ (self):\n",
    "        return f\"Pokemon (name = {self.name}, type = {self.type}, level = {self.level})\"\n",
    "    \n",
    "    def __repr__(self):\n",
    "        return f\"Pokemon (name = '{self.name}', type = '{self.type}', level = '{self.level}')\"\n",
    "\n",
    "class waterPokemon(Pokemon):\n",
    "    def splash (self):\n",
    "        return \"Splash\"\n",
    "        \n",
    "\n",
    "Pokemon_1 = Pokemon(\"Pikachu\", \"Electric\", 10)\n",
    "Pokemon_2 = waterPokemon(\"Squirtle\", \"water\", 3)\n",
    "\n",
    "#print(Pokemon_1)\n",
    "print(repr(Pokemon_1))"
   ]
  },
  {
   "cell_type": "code",
   "execution_count": 18,
   "metadata": {},
   "outputs": [
    {
     "name": "stdout",
     "output_type": "stream",
     "text": [
      "Pokemon (name = 'Squirtle', type = 'water', level = '3')\n"
     ]
    }
   ],
   "source": [
    "print(repr(Pokemon_2))"
   ]
  },
  {
   "cell_type": "code",
   "execution_count": 20,
   "metadata": {},
   "outputs": [
    {
     "data": {
      "text/plain": [
       "'Splash'"
      ]
     },
     "execution_count": 20,
     "metadata": {},
     "output_type": "execute_result"
    }
   ],
   "source": [
    "Pokemon_2.splash()"
   ]
  },
  {
   "cell_type": "markdown",
   "metadata": {},
   "source": [
    "#  d) Now instantiate two Squirtles and a Polywag. Squirtles and Polywags are of type WaterPokemon."
   ]
  },
  {
   "cell_type": "code",
   "execution_count": 22,
   "metadata": {},
   "outputs": [
    {
     "name": "stdout",
     "output_type": "stream",
     "text": [
      "Pokemon (name = 'Pikachu', type = 'Electric', level = '10')\n"
     ]
    }
   ],
   "source": [
    "class Pokemon:\n",
    "    def __init__(self, name, type, level) -> None:\n",
    "        self.name = name \n",
    "        self.type = type\n",
    "        self.level = level\n",
    "\n",
    "    def __str__ (self):\n",
    "        return f\"Pokemon (name = {self.name}, type = {self.type}, level = {self.level})\"\n",
    "    \n",
    "    def __repr__(self):\n",
    "        return f\"Pokemon (name = '{self.name}', type = '{self.type}', level = '{self.level}')\"\n",
    "\n",
    "class waterPokemon(Pokemon):\n",
    "    def splash (self):\n",
    "        return \"Splash\"\n",
    "        \n",
    "#Instantiate the pokemons\n",
    "Pokemon_1 = Pokemon(\"Pikachu\", \"Electric\", 10)\n",
    "Pokemon_2 = waterPokemon(\"Squirtle\", \"water\", 3)\n",
    "Pokemon_3 = waterPokemon(\"Squirtle\", \"water\", 7)\n",
    "Pokemon_4 = waterPokemon(\"Polywag\", \"water\", 8)\n",
    "\n",
    "\n",
    "#print(Pokemon_1)\n",
    "print(repr(Pokemon_1))"
   ]
  },
  {
   "cell_type": "markdown",
   "metadata": {},
   "source": [
    "# e) Loop through a tuple of all your instantiated pokemons and print them out.\n",
    "\n",
    "\n"
   ]
  },
  {
   "cell_type": "code",
   "execution_count": 23,
   "metadata": {},
   "outputs": [
    {
     "name": "stdout",
     "output_type": "stream",
     "text": [
      "(Pokemon (name = 'Pikachu', type = 'Electric', level = '10'), Pokemon (name = 'Squirtle', type = 'water', level = '3'), Pokemon (name = 'Squirtle', type = 'water', level = '7'), Pokemon (name = 'Polywag', type = 'water', level = '8'))\n"
     ]
    }
   ],
   "source": [
    "# Creating and printing tuple\n",
    "Poke_tuple = (Pokemon_1, Pokemon_2, Pokemon_3, Pokemon_4)\n",
    "print(Poke_tuple)"
   ]
  },
  {
   "cell_type": "code",
   "execution_count": 24,
   "metadata": {},
   "outputs": [
    {
     "name": "stdout",
     "output_type": "stream",
     "text": [
      "Pokemon (name = Pikachu, type = Electric, level = 10)\n",
      "Pokemon (name = Squirtle, type = water, level = 3)\n",
      "Pokemon (name = Squirtle, type = water, level = 7)\n",
      "Pokemon (name = Polywag, type = water, level = 8)\n"
     ]
    }
   ],
   "source": [
    "# Loops through the tuple of pokemons\n",
    "for pokemon in Poke_tuple:\n",
    "    print(pokemon)"
   ]
  },
  {
   "cell_type": "markdown",
   "metadata": {},
   "source": [
    "# 2 Analyze a log file"
   ]
  }
 ],
 "metadata": {
  "kernelspec": {
   "display_name": ".venv",
   "language": "python",
   "name": "python3"
  },
  "language_info": {
   "codemirror_mode": {
    "name": "ipython",
    "version": 3
   },
   "file_extension": ".py",
   "mimetype": "text/x-python",
   "name": "python",
   "nbconvert_exporter": "python",
   "pygments_lexer": "ipython3",
   "version": "3.11.7"
  }
 },
 "nbformat": 4,
 "nbformat_minor": 2
}
