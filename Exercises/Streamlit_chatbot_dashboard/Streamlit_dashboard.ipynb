{
 "cells": [
  {
   "cell_type": "markdown",
   "metadata": {},
   "source": [
    "# 03 Chatbot\n",
    "\n",
    "### Create a simple chatbot and customize it to your choice. Here are some inspirations: \n",
    " * ChatGBG - always talk in göteborg dialect and likes making fun of people from Stocholm \n",
    " * AnalystGPT - send in some data and it will give some KPIs, or even make graphs based on your data JokeTeller - turns everything into a good joke \n",
    " * Answer questions about your school or your programs Make sure that your chatbot has memory."
   ]
  }
 ],
 "metadata": {
  "language_info": {
   "name": "python"
  }
 },
 "nbformat": 4,
 "nbformat_minor": 2
}
