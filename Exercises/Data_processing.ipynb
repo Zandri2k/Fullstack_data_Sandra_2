{
 "cells": [
  {
   "cell_type": "code",
   "execution_count": null,
   "metadata": {},
   "outputs": [],
   "source": []
  },
  {
   "cell_type": "markdown",
   "metadata": {},
   "source": [
    "# 0. Hire IT employee data\n",
    "###  a) Create a list of dictionaries to represent this data, where each dictionary represents each row.\n",
    "\n",
    "###  b) Extract the second record in this dataset.\n",
    "\n",
    "###   c) Extract all rows from this dataset and print it in this format\n",
    "\n",
    "###   d) Find out the average salary in Hire IT.\n",
    "\n",
    "### e) Find out the average salary among the HR department in Hire IT.\n",
    "\n",
    "### f) Extract all records where the department is HR.\n",
    "\n",
    "### g) Find all unique departments in this list."
   ]
  },
  {
   "cell_type": "markdown",
   "metadata": {},
   "source": [
    "## a)"
   ]
  },
  {
   "cell_type": "code",
   "execution_count": 2,
   "metadata": {},
   "outputs": [],
   "source": [
    "Data = [\n",
    "    {\"employeeId\": 0, \"name\": \"Saga\", \"department\": \"Buisness\", \"salary\": 32000},\n",
    "    {\"employeeId\": 1, \"name\": \"Ken\", \"department\": \"It\", \"salary\": 41000},\n",
    "    {\"employeeId\": 2, \"name\": \"Saga\", \"department\": \"HR\", \"salary\": 29000},\n",
    "]"
   ]
  },
  {
   "cell_type": "markdown",
   "metadata": {},
   "source": [
    "## b)"
   ]
  },
  {
   "cell_type": "code",
   "execution_count": 3,
   "metadata": {},
   "outputs": [
    {
     "name": "stdout",
     "output_type": "stream",
     "text": [
      "{'employeeId': 1, 'name': 'Ken', 'department': 'It', 'salary': 41000}\n"
     ]
    }
   ],
   "source": [
    "second_row = Data[1]\n",
    "print(second_row)"
   ]
  },
  {
   "cell_type": "markdown",
   "metadata": {},
   "source": [
    "## c)"
   ]
  },
  {
   "cell_type": "code",
   "execution_count": 6,
   "metadata": {},
   "outputs": [
    {
     "name": "stdout",
     "output_type": "stream",
     "text": [
      "{'employeeId': 0, 'name': 'Saga', 'department': 'Buisness', 'salary': 32000}\n",
      "{'employeeId': 1, 'name': 'Ken', 'department': 'It', 'salary': 41000}\n",
      "{'employeeId': 2, 'name': 'Saga', 'department': 'HR', 'salary': 29000}\n"
     ]
    }
   ],
   "source": [
    "all_rows =Data[:3]\n",
    "\n",
    "for row in all_rows:\n",
    "    print(row)"
   ]
  },
  {
   "cell_type": "markdown",
   "metadata": {},
   "source": []
  }
 ],
 "metadata": {
  "kernelspec": {
   "display_name": ".venv",
   "language": "python",
   "name": "python3"
  },
  "language_info": {
   "codemirror_mode": {
    "name": "ipython",
    "version": 3
   },
   "file_extension": ".py",
   "mimetype": "text/x-python",
   "name": "python",
   "nbconvert_exporter": "python",
   "pygments_lexer": "ipython3",
   "version": "3.11.7"
  }
 },
 "nbformat": 4,
 "nbformat_minor": 2
}
