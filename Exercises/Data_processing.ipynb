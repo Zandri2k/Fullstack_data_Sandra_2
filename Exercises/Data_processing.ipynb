{
 "cells": [
  {
   "cell_type": "markdown",
   "metadata": {},
   "source": [
    "# 0. Supahcoolsoft employee data"
   ]
  },
  {
   "cell_type": "code",
   "execution_count": 1,
   "metadata": {},
   "outputs": [],
   "source": [
    "import pandas as pd"
   ]
  },
  {
   "cell_type": "code",
   "execution_count": 2,
   "metadata": {},
   "outputs": [
    {
     "data": {
      "text/html": [
       "<div>\n",
       "<style scoped>\n",
       "    .dataframe tbody tr th:only-of-type {\n",
       "        vertical-align: middle;\n",
       "    }\n",
       "\n",
       "    .dataframe tbody tr th {\n",
       "        vertical-align: top;\n",
       "    }\n",
       "\n",
       "    .dataframe thead th {\n",
       "        text-align: right;\n",
       "    }\n",
       "</style>\n",
       "<table border=\"1\" class=\"dataframe\">\n",
       "  <thead>\n",
       "    <tr style=\"text-align: right;\">\n",
       "      <th></th>\n",
       "      <th>EmployeeID</th>\n",
       "      <th>FirstName</th>\n",
       "      <th>LastName</th>\n",
       "      <th>Age</th>\n",
       "      <th>Department</th>\n",
       "      <th>Position</th>\n",
       "      <th>Salary_SEK</th>\n",
       "      <th>Email</th>\n",
       "      <th>PhoneNumber</th>\n",
       "    </tr>\n",
       "  </thead>\n",
       "  <tbody>\n",
       "    <tr>\n",
       "      <th>0</th>\n",
       "      <td>E001</td>\n",
       "      <td>Ann</td>\n",
       "      <td>Larsson</td>\n",
       "      <td>41</td>\n",
       "      <td>Product Management</td>\n",
       "      <td>AI Specialist</td>\n",
       "      <td>60777.0</td>\n",
       "      <td>ann.larsson@supacoolsoft.se</td>\n",
       "      <td>+46 (0)25 37 22 30</td>\n",
       "    </tr>\n",
       "    <tr>\n",
       "      <th>1</th>\n",
       "      <td>E002</td>\n",
       "      <td>Emma</td>\n",
       "      <td>Kim</td>\n",
       "      <td>52</td>\n",
       "      <td>Engineering</td>\n",
       "      <td>Database Administrator</td>\n",
       "      <td>46020.0</td>\n",
       "      <td>emma.kim@supacoolsoft.se</td>\n",
       "      <td>+46 (0)855 449 66</td>\n",
       "    </tr>\n",
       "    <tr>\n",
       "      <th>2</th>\n",
       "      <td>E003</td>\n",
       "      <td>Barbro</td>\n",
       "      <td>Andersson</td>\n",
       "      <td>59</td>\n",
       "      <td>DevOps</td>\n",
       "      <td>Data Scientist</td>\n",
       "      <td>48503.0</td>\n",
       "      <td>barbro.andersson@supacoolsoft.se</td>\n",
       "      <td>+46 (0)47 61 73 44</td>\n",
       "    </tr>\n",
       "    <tr>\n",
       "      <th>3</th>\n",
       "      <td>E004</td>\n",
       "      <td>Magnus</td>\n",
       "      <td>Söderström</td>\n",
       "      <td>52</td>\n",
       "      <td>Product Management</td>\n",
       "      <td>Junior Data Scientist</td>\n",
       "      <td>47296.0</td>\n",
       "      <td>magnus.söderström@supacoolsoft.se</td>\n",
       "      <td>+46 (0)258 579 26</td>\n",
       "    </tr>\n",
       "    <tr>\n",
       "      <th>4</th>\n",
       "      <td>E005</td>\n",
       "      <td>Therese</td>\n",
       "      <td>Ljungberg</td>\n",
       "      <td>46</td>\n",
       "      <td>Product Management</td>\n",
       "      <td>Junior Data Scientist</td>\n",
       "      <td>42435.0</td>\n",
       "      <td>therese.ljungberg@supacoolsoft.se</td>\n",
       "      <td>+46 (0)575 495 24</td>\n",
       "    </tr>\n",
       "  </tbody>\n",
       "</table>\n",
       "</div>"
      ],
      "text/plain": [
       "  EmployeeID FirstName    LastName  Age          Department  \\\n",
       "0       E001       Ann     Larsson   41  Product Management   \n",
       "1       E002      Emma         Kim   52         Engineering   \n",
       "2       E003    Barbro   Andersson   59              DevOps   \n",
       "3       E004    Magnus  Söderström   52  Product Management   \n",
       "4       E005   Therese   Ljungberg   46  Product Management   \n",
       "\n",
       "                 Position  Salary_SEK                              Email  \\\n",
       "0           AI Specialist     60777.0        ann.larsson@supacoolsoft.se   \n",
       "1  Database Administrator     46020.0           emma.kim@supacoolsoft.se   \n",
       "2          Data Scientist     48503.0   barbro.andersson@supacoolsoft.se   \n",
       "3   Junior Data Scientist     47296.0  magnus.söderström@supacoolsoft.se   \n",
       "4   Junior Data Scientist     42435.0  therese.ljungberg@supacoolsoft.se   \n",
       "\n",
       "          PhoneNumber  \n",
       "0  +46 (0)25 37 22 30  \n",
       "1   +46 (0)855 449 66  \n",
       "2  +46 (0)47 61 73 44  \n",
       "3   +46 (0)258 579 26  \n",
       "4   +46 (0)575 495 24  "
      ]
     },
     "execution_count": 2,
     "metadata": {},
     "output_type": "execute_result"
    }
   ],
   "source": [
    "df = pd.read_csv(\"../data/supahcoolsoft.csv\")\n",
    "df.head()"
   ]
  }
 ],
 "metadata": {
  "kernelspec": {
   "display_name": ".venv",
   "language": "python",
   "name": "python3"
  },
  "language_info": {
   "codemirror_mode": {
    "name": "ipython",
    "version": 3
   },
   "file_extension": ".py",
   "mimetype": "text/x-python",
   "name": "python",
   "nbconvert_exporter": "python",
   "pygments_lexer": "ipython3",
   "version": "3.11.7"
  }
 },
 "nbformat": 4,
 "nbformat_minor": 2
}
