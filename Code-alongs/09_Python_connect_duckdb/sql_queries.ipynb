{
 "cells": [
  {
   "cell_type": "markdown",
   "metadata": {},
   "source": [
    "# Connect to database\n"
   ]
  },
  {
   "cell_type": "code",
   "execution_count": 1,
   "metadata": {},
   "outputs": [
    {
     "data": {
      "text/html": [
       "<div>\n",
       "<style scoped>\n",
       "    .dataframe tbody tr th:only-of-type {\n",
       "        vertical-align: middle;\n",
       "    }\n",
       "\n",
       "    .dataframe tbody tr th {\n",
       "        vertical-align: top;\n",
       "    }\n",
       "\n",
       "    .dataframe thead th {\n",
       "        text-align: right;\n",
       "    }\n",
       "</style>\n",
       "<table border=\"1\" class=\"dataframe\">\n",
       "  <thead>\n",
       "    <tr style=\"text-align: right;\">\n",
       "      <th></th>\n",
       "      <th>Förvaltning</th>\n",
       "      <th>Leverantör</th>\n",
       "      <th>Organisationsnummer</th>\n",
       "      <th>Verifikationsnummer</th>\n",
       "      <th>Konto</th>\n",
       "      <th>Kontotext</th>\n",
       "      <th>Belopp exkl moms</th>\n",
       "    </tr>\n",
       "  </thead>\n",
       "  <tbody>\n",
       "    <tr>\n",
       "      <th>0</th>\n",
       "      <td>Stadsmiljönämnden</td>\n",
       "      <td>TRACK TEC GMBH</td>\n",
       "      <td>106/5727/0626</td>\n",
       "      <td>4001291513</td>\n",
       "      <td>4101</td>\n",
       "      <td>Inköp anläggnings och underhållsmaterial</td>\n",
       "      <td>9 835 315,00</td>\n",
       "    </tr>\n",
       "    <tr>\n",
       "      <th>1</th>\n",
       "      <td>Kretslopp och Vatten</td>\n",
       "      <td>POLISMYNDIGHETEN I VÄSTRA GÖTALAND</td>\n",
       "      <td>2021000076</td>\n",
       "      <td>5601378982</td>\n",
       "      <td>6185</td>\n",
       "      <td>Anläggningsentreprenad</td>\n",
       "      <td>870,00</td>\n",
       "    </tr>\n",
       "    <tr>\n",
       "      <th>2</th>\n",
       "      <td>Kretslopp och Vatten</td>\n",
       "      <td>POLISMYNDIGHETEN I VÄSTRA GÖTALAND</td>\n",
       "      <td>2021000076</td>\n",
       "      <td>5601377374</td>\n",
       "      <td>6185</td>\n",
       "      <td>Anläggningsentreprenad</td>\n",
       "      <td>870,00</td>\n",
       "    </tr>\n",
       "    <tr>\n",
       "      <th>3</th>\n",
       "      <td>Kretslopp och Vatten</td>\n",
       "      <td>POLISMYNDIGHETEN I VÄSTRA GÖTALAND</td>\n",
       "      <td>2021000076</td>\n",
       "      <td>5601378519</td>\n",
       "      <td>6185</td>\n",
       "      <td>Anläggningsentreprenad</td>\n",
       "      <td>870,00</td>\n",
       "    </tr>\n",
       "    <tr>\n",
       "      <th>4</th>\n",
       "      <td>Exploateringsnämnden</td>\n",
       "      <td>POLISMYNDIGHETEN I VÄSTRA GÖTALAND</td>\n",
       "      <td>2021000076</td>\n",
       "      <td>2001226894</td>\n",
       "      <td>7641</td>\n",
       "      <td>Diverse skatter och offentliga avgifter</td>\n",
       "      <td>1 000,00</td>\n",
       "    </tr>\n",
       "  </tbody>\n",
       "</table>\n",
       "</div>"
      ],
      "text/plain": [
       "            Förvaltning                          Leverantör  \\\n",
       "0     Stadsmiljönämnden                      TRACK TEC GMBH   \n",
       "1  Kretslopp och Vatten  POLISMYNDIGHETEN I VÄSTRA GÖTALAND   \n",
       "2  Kretslopp och Vatten  POLISMYNDIGHETEN I VÄSTRA GÖTALAND   \n",
       "3  Kretslopp och Vatten  POLISMYNDIGHETEN I VÄSTRA GÖTALAND   \n",
       "4  Exploateringsnämnden  POLISMYNDIGHETEN I VÄSTRA GÖTALAND   \n",
       "\n",
       "  Organisationsnummer  Verifikationsnummer  Konto  \\\n",
       "0       106/5727/0626           4001291513   4101   \n",
       "1          2021000076           5601378982   6185   \n",
       "2          2021000076           5601377374   6185   \n",
       "3          2021000076           5601378519   6185   \n",
       "4          2021000076           2001226894   7641   \n",
       "\n",
       "                                  Kontotext Belopp exkl moms  \n",
       "0  Inköp anläggnings och underhållsmaterial     9 835 315,00  \n",
       "1                    Anläggningsentreprenad           870,00  \n",
       "2                    Anläggningsentreprenad           870,00  \n",
       "3                    Anläggningsentreprenad           870,00  \n",
       "4   Diverse skatter och offentliga avgifter         1 000,00  "
      ]
     },
     "execution_count": 1,
     "metadata": {},
     "output_type": "execute_result"
    }
   ],
   "source": [
    "from query_database import  QueryDatabase\n",
    "from database import Database\n",
    "from constants import DATABASE_PATH\n",
    "\n",
    "df = QueryDatabase(\"SELECT * FROM supplier_invoice.invoice_202408;\").df\n",
    "df.head()"
   ]
  },
  {
   "cell_type": "code",
   "execution_count": 2,
   "metadata": {},
   "outputs": [
    {
     "data": {
      "text/plain": [
       "(92989, 7)"
      ]
     },
     "execution_count": 2,
     "metadata": {},
     "output_type": "execute_result"
    }
   ],
   "source": [
    "df.shape"
   ]
  },
  {
   "cell_type": "code",
   "execution_count": null,
   "metadata": {},
   "outputs": [],
   "source": []
  }
 ],
 "metadata": {
  "kernelspec": {
   "display_name": ".venv",
   "language": "python",
   "name": "python3"
  },
  "language_info": {
   "codemirror_mode": {
    "name": "ipython",
    "version": 3
   },
   "file_extension": ".py",
   "mimetype": "text/x-python",
   "name": "python",
   "nbconvert_exporter": "python",
   "pygments_lexer": "ipython3",
   "version": "3.11.7"
  }
 },
 "nbformat": 4,
 "nbformat_minor": 2
}
