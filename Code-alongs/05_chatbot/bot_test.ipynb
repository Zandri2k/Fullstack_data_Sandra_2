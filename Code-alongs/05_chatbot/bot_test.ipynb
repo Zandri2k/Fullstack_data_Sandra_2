{
 "cells": [
  {
   "cell_type": "code",
   "execution_count": 5,
   "metadata": {},
   "outputs": [
    {
     "name": "stdout",
     "output_type": "stream",
     "text": [
      "Of course! I'm here to help. What do you need assistance with?\n"
     ]
    }
   ],
   "source": [
    "import json\n",
    "import requests\n",
    "from dotenv import load_dotenv\n",
    "import os\n",
    "\n",
    "\n",
    "load_dotenv()\n",
    "\n",
    "EDEN_API_KEY = os.getenv(\"EDEN_API_KEY\")\n",
    "\n",
    "\n",
    "headers = {\"Authorization\": f\"Bearer {EDEN_API_KEY}\"}\n",
    "\n",
    "url = \"https://api.edenai.run/v2/text/chat\"\n",
    "payload = {\n",
    "    \"providers\": \"openai/gpt-4o\",\n",
    "    \"text\": \"Hello i need your help ! \",\n",
    "    \"chatbot_global_action\": \"Act as an assistant\",\n",
    "    \"previous_history\": [],\n",
    "    \"temperature\": 0.0,\n",
    "    \"max_tokens\": 150,\n",
    "}\n",
    "\n",
    "response = requests.post(url, json=payload, headers=headers)\n",
    "\n",
    "result = json.loads(response.text)\n",
    "print(result['openai/gpt-4o']['generated_text'])\n"
   ]
  },
  {
   "cell_type": "code",
   "execution_count": 6,
   "metadata": {},
   "outputs": [
    {
     "name": "stdout",
     "output_type": "stream",
     "text": [
      "Why did the scarecrow win an award? \n",
      "\n",
      "Because he was outstanding in his field!\n"
     ]
    }
   ],
   "source": [
    "import json\n",
    "import requests\n",
    "from dotenv import load_dotenv\n",
    "import os\n",
    "\n",
    "\n",
    "load_dotenv()\n",
    "\n",
    "EDEN_API_KEY = os.getenv(\"EDEN_API_KEY\")\n",
    "\n",
    "\n",
    "class Bot: \n",
    "\n",
    "    def chat (self, prompt):\n",
    "\n",
    "\n",
    "        headers = {\"Authorization\": f\"Bearer {EDEN_API_KEY}\"}\n",
    "\n",
    "        url = \"https://api.edenai.run/v2/text/chat\"\n",
    "        payload = {\n",
    "            \"providers\": \"openai/gpt-4o-mini\",\n",
    "            \"text\": prompt,\n",
    "            \"chatbot_global_action\": \"Act as an assistant\",\n",
    "            \"previous_history\": [],\n",
    "            \"temperature\": 0.0,\n",
    "            \"max_tokens\": 150,\n",
    "        }\n",
    "\n",
    "        response = requests.post(url, json=payload, headers=headers)\n",
    "\n",
    "        result = json.loads(response.text)\n",
    "        print(result['openai/gpt-4o-mini']['generated_text'])\n",
    "\n",
    "\n",
    "bot = Bot () \n",
    "bot.chat(\"Tell me a joke\")"
   ]
  },
  {
   "cell_type": "code",
   "execution_count": 7,
   "metadata": {},
   "outputs": [
    {
     "name": "stdout",
     "output_type": "stream",
     "text": [
      "I'm sorry, but I don't have the ability to recall past interactions or conversations. Each session is treated independently for privacy and security reasons. How can I assist you today?\n"
     ]
    }
   ],
   "source": [
    "bot.chat(\"what did I ask you before\")"
   ]
  },
  {
   "cell_type": "code",
   "execution_count": null,
   "metadata": {},
   "outputs": [],
   "source": [
    "import json\n",
    "import requests\n",
    "from dotenv import load_dotenv\n",
    "import os\n",
    "\n",
    "\n",
    "load_dotenv()\n",
    "\n",
    "EDEN_API_KEY = os.getenv(\"EDEN_API_KEY\")\n",
    "\n",
    "\n",
    "class Bot: \n",
    "    def __init__(self) -> None:\n",
    "        self.history = list #ability for memory\n",
    "\n",
    "    def chat (self, prompt):\n",
    "\n",
    "\n",
    "        headers = {\"Authorization\": f\"Bearer {EDEN_API_KEY}\"}\n",
    "\n",
    "        url = \"https://api.edenai.run/v2/text/chat\"\n",
    "        payload = {\n",
    "            \"providers\": \"openai/gpt-4o-mini\",\n",
    "            \"text\": prompt,\n",
    "            \"chatbot_global_action\": \"you are a teachers assistant that is quite funny and can out with programming. Don't give out the full snwer, instead ask a question back. Your name is RO BÅT\"\" \"\"\",\n",
    "            \"previous_history\": [self.history], #minne till boten\n",
    "            \"temperature\": 0.5,\n",
    "            \"max_tokens\": 150,\n",
    "        }\n",
    "\n",
    "       \n",
    "        response = requests.post(url, json=payload, headers=headers)\n",
    "\n",
    "        answer = json.loads(response.text)['openai/gpt-4o-mini']['generated_text']\n",
    "\n",
    "        self.history.append({\"role\": \"user\", \"message\": prompt})\n",
    "        self.history.append({\"role\": \"assistent\", \"message\": answer})\n",
    "\n",
    "\n",
    "        return answer\n",
    "\n",
    "\n",
    "bot = Bot () \n",
    "bot.chat(\"Tell me a joke\")"
   ]
  },
  {
   "cell_type": "code",
   "execution_count": 3,
   "metadata": {},
   "outputs": [
    {
     "data": {
      "text/plain": [
       "{'detail': 'Authorization header malformated, authorization should follow this format: \"Authorization: Bearer <your_api_key>\"'}"
      ]
     },
     "execution_count": 3,
     "metadata": {},
     "output_type": "execute_result"
    }
   ],
   "source": [
    "result"
   ]
  }
 ],
 "metadata": {
  "kernelspec": {
   "display_name": ".venv",
   "language": "python",
   "name": "python3"
  },
  "language_info": {
   "codemirror_mode": {
    "name": "ipython",
    "version": 3
   },
   "file_extension": ".py",
   "mimetype": "text/x-python",
   "name": "python",
   "nbconvert_exporter": "python",
   "pygments_lexer": "ipython3",
   "version": "3.11.7"
  }
 },
 "nbformat": 4,
 "nbformat_minor": 2
}
